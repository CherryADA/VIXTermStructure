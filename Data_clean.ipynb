{
 "cells": [
  {
   "cell_type": "code",
   "execution_count": 1,
   "metadata": {},
   "outputs": [],
   "source": [
    "import pandas as pd\n",
    "URL_fx = {'DXY': 'https://raw.githubusercontent.com/CherryADA/VIXTermStructure/master/vix_data/DXY.Index.csv', \n",
    "       'JPY': 'https://raw.githubusercontent.com/CherryADA/VIXTermStructure/master/vix_data/USDJPY.Curncy.csv',\n",
    "      'EUR': 'https://raw.githubusercontent.com/CherryADA/VIXTermStructure/master/vix_data/USDEUR.Curncy.csv'}\n",
    "list_fx = []\n",
    "for i, j in URL_fx.items():\n",
    "    df = pd.read_csv(URL_fx[i], index_col=0, parse_dates=[0])\n",
    "    df = df.dropna()\n",
    "    list_fx.append(df)\n",
    "fx = pd.DataFrame(list_fx[1])\n",
    "for i in range(1, len(list_fx)): \n",
    "    fx = pd.merge(fx, list_fx[i], how = 'outer', on = 'Date')"
   ]
  },
  {
   "cell_type": "code",
   "execution_count": 2,
   "metadata": {},
   "outputs": [],
   "source": [
    "import os\n",
    "os.getcwd()\n",
    "fx.to_csv('fx.csv')"
   ]
  },
  {
   "cell_type": "markdown",
   "metadata": {},
   "source": [
    "#### Data about equity"
   ]
  },
  {
   "cell_type": "code",
   "execution_count": 3,
   "metadata": {},
   "outputs": [],
   "source": [
    "import pandas as pd\n",
    "URL_equity = {'SPX': 'https://raw.githubusercontent.com/CherryADA/VIXTermStructure/master/vix_data/SPX.Index.csv', \n",
    "       'RTY': 'https://raw.githubusercontent.com/CherryADA/VIXTermStructure/master/vix_data/RTY.Index.csv',\n",
    "      'MXEA': 'https://raw.githubusercontent.com/CherryADA/VIXTermStructure/master/vix_data/MXEA.Index.csv'}\n",
    "list_equity = []\n",
    "for i, j in URL_equity.items():\n",
    "    df = pd.read_csv(URL_equity[i], index_col=0, parse_dates=[0])\n",
    "    df = df.dropna()\n",
    "    list_equity.append(df)\n",
    "equity = pd.DataFrame(list_equity[1])\n",
    "for i in range(1, len(list_equity)): \n",
    "    equity = pd.merge(equity, list_equity[i], how = 'outer', on = 'Date')"
   ]
  },
  {
   "cell_type": "code",
   "execution_count": 4,
   "metadata": {},
   "outputs": [],
   "source": [
    "import os\n",
    "os.getcwd()\n",
    "equity.to_csv('equity.csv')"
   ]
  },
  {
   "cell_type": "code",
   "execution_count": null,
   "metadata": {},
   "outputs": [],
   "source": [
    "equity.tail()"
   ]
  },
  {
   "cell_type": "markdown",
   "metadata": {},
   "source": [
    "#### Data about fixed income"
   ]
  },
  {
   "cell_type": "code",
   "execution_count": 5,
   "metadata": {},
   "outputs": [],
   "source": [
    "import pandas as pd\n",
    "URL_fixed_income = {'LBUSTRUU': 'https://raw.githubusercontent.com/CherryADA/VIXTermStructure/master/vix_data/LBUSTRUU.Index.csv', \n",
    "       'LEGATRUU': 'https://raw.githubusercontent.com/CherryADA/VIXTermStructure/master/vix_data/LEGATRUU.Index.csv',\n",
    "      'LF98TRUU': 'https://raw.githubusercontent.com/CherryADA/VIXTermStructure/master/vix_data/LF98TRUU.Index.csv',\n",
    "                    'LGTRTRUU' : 'https://raw.githubusercontent.com/CherryADA/VIXTermStructure/master/vix_data/LGTRTRUU.Index.csv',\n",
    "                   'LUACTRUU':'https://raw.githubusercontent.com/CherryADA/VIXTermStructure/master/vix_data/LUACTRUU.Index.csv',\n",
    "                   'LUATTRUU':'https://raw.githubusercontent.com/CherryADA/VIXTermStructure/master/vix_data/LUATTRUU.Index.csv'}\n",
    "list_fixed_income = []\n",
    "for i, j in URL_fixed_income.items():\n",
    "    df = pd.read_csv(URL_fixed_income[i], index_col=0, parse_dates=[0])\n",
    "    df = df.dropna()\n",
    "    list_fixed_income.append(df)\n",
    "fixed_income = pd.DataFrame(list_fixed_income[1])\n",
    "for i in range(1, len(list_fixed_income)): \n",
    "    fixed_income = pd.merge(fixed_income, list_fixed_income[i], how = 'outer', on = 'Date')"
   ]
  },
  {
   "cell_type": "code",
   "execution_count": null,
   "metadata": {},
   "outputs": [],
   "source": [
    "fixed_income.tail()"
   ]
  },
  {
   "cell_type": "code",
   "execution_count": 6,
   "metadata": {},
   "outputs": [],
   "source": [
    "import os\n",
    "os.getcwd()\n",
    "fixed_income.to_csv('fixed_income.csv')"
   ]
  },
  {
   "cell_type": "markdown",
   "metadata": {},
   "source": [
    "#### Data about commodity"
   ]
  },
  {
   "cell_type": "code",
   "execution_count": 7,
   "metadata": {},
   "outputs": [],
   "source": [
    "import pandas as pd\n",
    "URL_commodity = {'BCOM':'https://raw.githubusercontent.com/CherryADA/VIXTermStructure/master/vix_data/BCOM.Index.csv',\n",
    "                'CL1':'https://raw.githubusercontent.com/CherryADA/VIXTermStructure/master/vix_data/CL1.Comdty.csv',\n",
    "                'XAU':'https://raw.githubusercontent.com/CherryADA/VIXTermStructure/master/vix_data/XAU.Curncy.csv'}\n",
    "list_commodity = []\n",
    "for i, j in URL_commodity.items():\n",
    "    df = pd.read_csv(URL_commodity[i], index_col=0, parse_dates=[0])\n",
    "    df = df.dropna()\n",
    "    list_commodity.append(df)\n",
    "commodity = pd.DataFrame(list_commodity[1])\n",
    "for i in range(1, len(list_commodity)): \n",
    "    commodity = pd.merge(commodity, list_commodity[i], how = 'outer', on = 'Date')"
   ]
  },
  {
   "cell_type": "code",
   "execution_count": 8,
   "metadata": {},
   "outputs": [],
   "source": [
    "import os\n",
    "os.getcwd()\n",
    "commodity.to_csv('commodity.csv')"
   ]
  },
  {
   "cell_type": "code",
   "execution_count": null,
   "metadata": {},
   "outputs": [],
   "source": [
    "commodity.tail()"
   ]
  },
  {
   "cell_type": "code",
   "execution_count": null,
   "metadata": {},
   "outputs": [],
   "source": []
  }
 ],
 "metadata": {
  "kernelspec": {
   "display_name": "Python 3",
   "language": "python",
   "name": "python3"
  },
  "language_info": {
   "codemirror_mode": {
    "name": "ipython",
    "version": 3
   },
   "file_extension": ".py",
   "mimetype": "text/x-python",
   "name": "python",
   "nbconvert_exporter": "python",
   "pygments_lexer": "ipython3",
   "version": "3.7.3"
  }
 },
 "nbformat": 4,
 "nbformat_minor": 2
}
